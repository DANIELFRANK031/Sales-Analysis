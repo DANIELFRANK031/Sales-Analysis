{
 "cells": [
  {
   "cell_type": "code",
   "execution_count": 1,
   "id": "94e8ea88",
   "metadata": {},
   "outputs": [],
   "source": [
    "import pandas as pd"
   ]
  },
  {
   "cell_type": "code",
   "execution_count": 2,
   "id": "3652192d",
   "metadata": {},
   "outputs": [],
   "source": [
    "df=pd.read_csv(\"raw.csv\")"
   ]
  },
  {
   "cell_type": "code",
   "execution_count": 3,
   "id": "3f7c6638",
   "metadata": {},
   "outputs": [
    {
     "data": {
      "text/html": [
       "<div>\n",
       "<style scoped>\n",
       "    .dataframe tbody tr th:only-of-type {\n",
       "        vertical-align: middle;\n",
       "    }\n",
       "\n",
       "    .dataframe tbody tr th {\n",
       "        vertical-align: top;\n",
       "    }\n",
       "\n",
       "    .dataframe thead th {\n",
       "        text-align: right;\n",
       "    }\n",
       "</style>\n",
       "<table border=\"1\" class=\"dataframe\">\n",
       "  <thead>\n",
       "    <tr style=\"text-align: right;\">\n",
       "      <th></th>\n",
       "      <th>OrderedAt Date</th>\n",
       "      <th>Order No.</th>\n",
       "      <th>Customer Name</th>\n",
       "      <th>Producer</th>\n",
       "      <th>Product</th>\n",
       "      <th>Category Group</th>\n",
       "      <th>Category</th>\n",
       "      <th>Variant</th>\n",
       "      <th>Quantity</th>\n",
       "      <th>Unit Price</th>\n",
       "      <th>shippingStatus</th>\n",
       "      <th>Delivery Agent</th>\n",
       "      <th>Delivery Date</th>\n",
       "      <th>Customer Type</th>\n",
       "      <th>Order Channel</th>\n",
       "    </tr>\n",
       "  </thead>\n",
       "  <tbody>\n",
       "    <tr>\n",
       "      <th>0</th>\n",
       "      <td>12/1/20 17:37</td>\n",
       "      <td>STU-2143266178</td>\n",
       "      <td>Rodam Enterprises</td>\n",
       "      <td>Hayat Kimya Nigeria Limited</td>\n",
       "      <td>Molfix Twin</td>\n",
       "      <td>Baby</td>\n",
       "      <td>Infant Care</td>\n",
       "      <td>Molfix Twin Midi(4-9 Kg) x 36 x 4</td>\n",
       "      <td>2.0</td>\n",
       "      <td>7,000.00</td>\n",
       "      <td>delivered</td>\n",
       "      <td>Maryjane Joel</td>\n",
       "      <td>12/2/20 12:01</td>\n",
       "      <td>General Trade</td>\n",
       "      <td>Mobile App</td>\n",
       "    </tr>\n",
       "    <tr>\n",
       "      <th>1</th>\n",
       "      <td>12/1/20 17:37</td>\n",
       "      <td>STU-2143266178</td>\n",
       "      <td>Rodam Enterprises</td>\n",
       "      <td>Hayat Kimya Nigeria Limited</td>\n",
       "      <td>Molfix Twin</td>\n",
       "      <td>Baby</td>\n",
       "      <td>Infant Care</td>\n",
       "      <td>Molfix Twin Mini(3-6 kg) by 40, pack of 4</td>\n",
       "      <td>1.0</td>\n",
       "      <td>7,000.00</td>\n",
       "      <td>delivered</td>\n",
       "      <td>Maryjane Joel</td>\n",
       "      <td>12/2/20 12:01</td>\n",
       "      <td>General Trade</td>\n",
       "      <td>Mobile App</td>\n",
       "    </tr>\n",
       "    <tr>\n",
       "      <th>2</th>\n",
       "      <td>12/1/20 17:37</td>\n",
       "      <td>STU-2143266178</td>\n",
       "      <td>Rodam Enterprises</td>\n",
       "      <td>Hayat Kimya Nigeria Limited</td>\n",
       "      <td>Molfix Twin</td>\n",
       "      <td>Baby</td>\n",
       "      <td>Infant Care</td>\n",
       "      <td>Molfix Twin Maxi(7-18 kg) by 32, pack of 4</td>\n",
       "      <td>1.0</td>\n",
       "      <td>7,000.00</td>\n",
       "      <td>delivered</td>\n",
       "      <td>Maryjane Joel</td>\n",
       "      <td>12/2/20 12:01</td>\n",
       "      <td>General Trade</td>\n",
       "      <td>Mobile App</td>\n",
       "    </tr>\n",
       "    <tr>\n",
       "      <th>3</th>\n",
       "      <td>12/1/20 16:20</td>\n",
       "      <td>STU-2143266042</td>\n",
       "      <td>O And K Super Store</td>\n",
       "      <td>Hayat Kimya Nigeria Limited</td>\n",
       "      <td>Molfix Twin</td>\n",
       "      <td>Baby</td>\n",
       "      <td>Infant Care</td>\n",
       "      <td>Molfix Twin Midi(4-9 Kg) x 36 x 4</td>\n",
       "      <td>1.0</td>\n",
       "      <td>7,000.00</td>\n",
       "      <td>delivered</td>\n",
       "      <td>Ralia Okwuchukwu</td>\n",
       "      <td>12/2/20 12:08</td>\n",
       "      <td>General Trade</td>\n",
       "      <td>Whatsapp</td>\n",
       "    </tr>\n",
       "    <tr>\n",
       "      <th>4</th>\n",
       "      <td>12/1/20 16:20</td>\n",
       "      <td>STU-2143266042</td>\n",
       "      <td>O And K Super Store</td>\n",
       "      <td>Hayat Kimya Nigeria Limited</td>\n",
       "      <td>Molfix Twin</td>\n",
       "      <td>Baby</td>\n",
       "      <td>Infant Care</td>\n",
       "      <td>Molfix Twin Maxi(7-18 kg) by 32, pack of 4</td>\n",
       "      <td>1.0</td>\n",
       "      <td>7,000.00</td>\n",
       "      <td>delivered</td>\n",
       "      <td>Ralia Okwuchukwu</td>\n",
       "      <td>12/2/20 12:08</td>\n",
       "      <td>General Trade</td>\n",
       "      <td>Whatsapp</td>\n",
       "    </tr>\n",
       "  </tbody>\n",
       "</table>\n",
       "</div>"
      ],
      "text/plain": [
       "  OrderedAt Date        Order No.        Customer Name  \\\n",
       "0   12/1/20 17:37  STU-2143266178    Rodam Enterprises   \n",
       "1   12/1/20 17:37  STU-2143266178    Rodam Enterprises   \n",
       "2   12/1/20 17:37  STU-2143266178    Rodam Enterprises   \n",
       "3   12/1/20 16:20  STU-2143266042  O And K Super Store   \n",
       "4   12/1/20 16:20  STU-2143266042  O And K Super Store   \n",
       "\n",
       "                      Producer      Product Category Group     Category  \\\n",
       "0  Hayat Kimya Nigeria Limited  Molfix Twin           Baby  Infant Care   \n",
       "1  Hayat Kimya Nigeria Limited  Molfix Twin           Baby  Infant Care   \n",
       "2  Hayat Kimya Nigeria Limited  Molfix Twin           Baby  Infant Care   \n",
       "3  Hayat Kimya Nigeria Limited  Molfix Twin           Baby  Infant Care   \n",
       "4  Hayat Kimya Nigeria Limited  Molfix Twin           Baby  Infant Care   \n",
       "\n",
       "                                      Variant  Quantity Unit Price  \\\n",
       "0           Molfix Twin Midi(4-9 Kg) x 36 x 4       2.0   7,000.00   \n",
       "1   Molfix Twin Mini(3-6 kg) by 40, pack of 4       1.0   7,000.00   \n",
       "2  Molfix Twin Maxi(7-18 kg) by 32, pack of 4       1.0   7,000.00   \n",
       "3           Molfix Twin Midi(4-9 Kg) x 36 x 4       1.0   7,000.00   \n",
       "4  Molfix Twin Maxi(7-18 kg) by 32, pack of 4       1.0   7,000.00   \n",
       "\n",
       "  shippingStatus    Delivery Agent  Delivery Date  Customer Type Order Channel  \n",
       "0      delivered     Maryjane Joel  12/2/20 12:01  General Trade    Mobile App  \n",
       "1      delivered     Maryjane Joel  12/2/20 12:01  General Trade    Mobile App  \n",
       "2      delivered     Maryjane Joel  12/2/20 12:01  General Trade    Mobile App  \n",
       "3      delivered  Ralia Okwuchukwu  12/2/20 12:08  General Trade      Whatsapp  \n",
       "4      delivered  Ralia Okwuchukwu  12/2/20 12:08  General Trade      Whatsapp  "
      ]
     },
     "execution_count": 3,
     "metadata": {},
     "output_type": "execute_result"
    }
   ],
   "source": [
    "df.head()"
   ]
  },
  {
   "cell_type": "code",
   "execution_count": 4,
   "id": "348ccb72",
   "metadata": {},
   "outputs": [
    {
     "data": {
      "text/plain": [
       "Index(['OrderedAt Date ', 'Order No.', 'Customer Name', 'Producer', 'Product',\n",
       "       'Category Group', 'Category', 'Variant', 'Quantity', 'Unit Price',\n",
       "       'shippingStatus', 'Delivery Agent', 'Delivery Date', 'Customer Type',\n",
       "       'Order Channel'],\n",
       "      dtype='object')"
      ]
     },
     "execution_count": 4,
     "metadata": {},
     "output_type": "execute_result"
    }
   ],
   "source": [
    "df.columns"
   ]
  },
  {
   "cell_type": "code",
   "execution_count": 5,
   "id": "21938bed",
   "metadata": {},
   "outputs": [],
   "source": [
    "newdf=df[['Order Channel','Quantity','Unit Price','Customer Type','Category Group','shippingStatus','Category','Delivery Date']]"
   ]
  },
  {
   "cell_type": "code",
   "execution_count": 6,
   "id": "1585368b",
   "metadata": {},
   "outputs": [
    {
     "data": {
      "text/html": [
       "<div>\n",
       "<style scoped>\n",
       "    .dataframe tbody tr th:only-of-type {\n",
       "        vertical-align: middle;\n",
       "    }\n",
       "\n",
       "    .dataframe tbody tr th {\n",
       "        vertical-align: top;\n",
       "    }\n",
       "\n",
       "    .dataframe thead th {\n",
       "        text-align: right;\n",
       "    }\n",
       "</style>\n",
       "<table border=\"1\" class=\"dataframe\">\n",
       "  <thead>\n",
       "    <tr style=\"text-align: right;\">\n",
       "      <th></th>\n",
       "      <th>Order Channel</th>\n",
       "      <th>Quantity</th>\n",
       "      <th>Unit Price</th>\n",
       "      <th>Customer Type</th>\n",
       "      <th>Category Group</th>\n",
       "      <th>shippingStatus</th>\n",
       "      <th>Category</th>\n",
       "      <th>Delivery Date</th>\n",
       "    </tr>\n",
       "  </thead>\n",
       "  <tbody>\n",
       "    <tr>\n",
       "      <th>0</th>\n",
       "      <td>Mobile App</td>\n",
       "      <td>2.0</td>\n",
       "      <td>7,000.00</td>\n",
       "      <td>General Trade</td>\n",
       "      <td>Baby</td>\n",
       "      <td>delivered</td>\n",
       "      <td>Infant Care</td>\n",
       "      <td>12/2/20 12:01</td>\n",
       "    </tr>\n",
       "    <tr>\n",
       "      <th>1</th>\n",
       "      <td>Mobile App</td>\n",
       "      <td>1.0</td>\n",
       "      <td>7,000.00</td>\n",
       "      <td>General Trade</td>\n",
       "      <td>Baby</td>\n",
       "      <td>delivered</td>\n",
       "      <td>Infant Care</td>\n",
       "      <td>12/2/20 12:01</td>\n",
       "    </tr>\n",
       "    <tr>\n",
       "      <th>2</th>\n",
       "      <td>Mobile App</td>\n",
       "      <td>1.0</td>\n",
       "      <td>7,000.00</td>\n",
       "      <td>General Trade</td>\n",
       "      <td>Baby</td>\n",
       "      <td>delivered</td>\n",
       "      <td>Infant Care</td>\n",
       "      <td>12/2/20 12:01</td>\n",
       "    </tr>\n",
       "    <tr>\n",
       "      <th>3</th>\n",
       "      <td>Whatsapp</td>\n",
       "      <td>1.0</td>\n",
       "      <td>7,000.00</td>\n",
       "      <td>General Trade</td>\n",
       "      <td>Baby</td>\n",
       "      <td>delivered</td>\n",
       "      <td>Infant Care</td>\n",
       "      <td>12/2/20 12:08</td>\n",
       "    </tr>\n",
       "    <tr>\n",
       "      <th>4</th>\n",
       "      <td>Whatsapp</td>\n",
       "      <td>1.0</td>\n",
       "      <td>7,000.00</td>\n",
       "      <td>General Trade</td>\n",
       "      <td>Baby</td>\n",
       "      <td>delivered</td>\n",
       "      <td>Infant Care</td>\n",
       "      <td>12/2/20 12:08</td>\n",
       "    </tr>\n",
       "  </tbody>\n",
       "</table>\n",
       "</div>"
      ],
      "text/plain": [
       "  Order Channel  Quantity Unit Price  Customer Type Category Group  \\\n",
       "0    Mobile App       2.0   7,000.00  General Trade           Baby   \n",
       "1    Mobile App       1.0   7,000.00  General Trade           Baby   \n",
       "2    Mobile App       1.0   7,000.00  General Trade           Baby   \n",
       "3      Whatsapp       1.0   7,000.00  General Trade           Baby   \n",
       "4      Whatsapp       1.0   7,000.00  General Trade           Baby   \n",
       "\n",
       "  shippingStatus     Category  Delivery Date  \n",
       "0      delivered  Infant Care  12/2/20 12:01  \n",
       "1      delivered  Infant Care  12/2/20 12:01  \n",
       "2      delivered  Infant Care  12/2/20 12:01  \n",
       "3      delivered  Infant Care  12/2/20 12:08  \n",
       "4      delivered  Infant Care  12/2/20 12:08  "
      ]
     },
     "execution_count": 6,
     "metadata": {},
     "output_type": "execute_result"
    }
   ],
   "source": [
    "newdf.head()"
   ]
  },
  {
   "cell_type": "code",
   "execution_count": 10,
   "id": "6040de7b",
   "metadata": {},
   "outputs": [
    {
     "name": "stdout",
     "output_type": "stream",
     "text": [
      "<class 'pandas.core.frame.DataFrame'>\n",
      "RangeIndex: 2046 entries, 0 to 2045\n",
      "Data columns (total 8 columns):\n",
      " #   Column          Non-Null Count  Dtype  \n",
      "---  ------          --------------  -----  \n",
      " 0   Order Channel   2046 non-null   object \n",
      " 1   Quantity        2046 non-null   float64\n",
      " 2   Unit Price      2046 non-null   object \n",
      " 3   Customer Type   2046 non-null   object \n",
      " 4   Category Group  2046 non-null   object \n",
      " 5   shippingStatus  2046 non-null   object \n",
      " 6   Category        2046 non-null   object \n",
      " 7   Delivery Date   1790 non-null   object \n",
      "dtypes: float64(1), object(7)\n",
      "memory usage: 128.0+ KB\n"
     ]
    }
   ],
   "source": [
    "newdf.info()"
   ]
  },
  {
   "cell_type": "code",
   "execution_count": 11,
   "id": "df9aab61",
   "metadata": {},
   "outputs": [
    {
     "data": {
      "text/html": [
       "<div>\n",
       "<style scoped>\n",
       "    .dataframe tbody tr th:only-of-type {\n",
       "        vertical-align: middle;\n",
       "    }\n",
       "\n",
       "    .dataframe tbody tr th {\n",
       "        vertical-align: top;\n",
       "    }\n",
       "\n",
       "    .dataframe thead th {\n",
       "        text-align: right;\n",
       "    }\n",
       "</style>\n",
       "<table border=\"1\" class=\"dataframe\">\n",
       "  <thead>\n",
       "    <tr style=\"text-align: right;\">\n",
       "      <th></th>\n",
       "      <th>Order Channel</th>\n",
       "      <th>Quantity</th>\n",
       "      <th>Unit Price</th>\n",
       "      <th>Customer Type</th>\n",
       "      <th>Category Group</th>\n",
       "      <th>shippingStatus</th>\n",
       "      <th>Category</th>\n",
       "      <th>Delivery Date</th>\n",
       "    </tr>\n",
       "  </thead>\n",
       "  <tbody>\n",
       "    <tr>\n",
       "      <th>2041</th>\n",
       "      <td>Whatsapp</td>\n",
       "      <td>1.0</td>\n",
       "      <td>2,200.00</td>\n",
       "      <td>General Trade</td>\n",
       "      <td>Home Care</td>\n",
       "      <td>cancelled</td>\n",
       "      <td>Household Clean</td>\n",
       "      <td>NaN</td>\n",
       "    </tr>\n",
       "    <tr>\n",
       "      <th>2042</th>\n",
       "      <td>Whatsapp</td>\n",
       "      <td>1.0</td>\n",
       "      <td>2,450.00</td>\n",
       "      <td>General Trade</td>\n",
       "      <td>Home Care</td>\n",
       "      <td>cancelled</td>\n",
       "      <td>Household Clean</td>\n",
       "      <td>NaN</td>\n",
       "    </tr>\n",
       "    <tr>\n",
       "      <th>2043</th>\n",
       "      <td>Whatsapp</td>\n",
       "      <td>1.0</td>\n",
       "      <td>3,550.00</td>\n",
       "      <td>General Trade</td>\n",
       "      <td>Home Care</td>\n",
       "      <td>cancelled</td>\n",
       "      <td>Fabric Clean</td>\n",
       "      <td>NaN</td>\n",
       "    </tr>\n",
       "    <tr>\n",
       "      <th>2044</th>\n",
       "      <td>Whatsapp</td>\n",
       "      <td>1.0</td>\n",
       "      <td>2,250.00</td>\n",
       "      <td>General Trade</td>\n",
       "      <td>Home Care</td>\n",
       "      <td>cancelled</td>\n",
       "      <td>Household Clean</td>\n",
       "      <td>NaN</td>\n",
       "    </tr>\n",
       "    <tr>\n",
       "      <th>2045</th>\n",
       "      <td>Whatsapp</td>\n",
       "      <td>1.0</td>\n",
       "      <td>2,300.00</td>\n",
       "      <td>General Trade</td>\n",
       "      <td>Home Care</td>\n",
       "      <td>cancelled</td>\n",
       "      <td>Fabric Clean</td>\n",
       "      <td>NaN</td>\n",
       "    </tr>\n",
       "  </tbody>\n",
       "</table>\n",
       "</div>"
      ],
      "text/plain": [
       "     Order Channel  Quantity Unit Price  Customer Type Category Group  \\\n",
       "2041      Whatsapp       1.0   2,200.00  General Trade      Home Care   \n",
       "2042      Whatsapp       1.0   2,450.00  General Trade      Home Care   \n",
       "2043      Whatsapp       1.0   3,550.00  General Trade      Home Care   \n",
       "2044      Whatsapp       1.0   2,250.00  General Trade      Home Care   \n",
       "2045      Whatsapp       1.0   2,300.00  General Trade      Home Care   \n",
       "\n",
       "     shippingStatus         Category Delivery Date  \n",
       "2041      cancelled  Household Clean           NaN  \n",
       "2042      cancelled  Household Clean           NaN  \n",
       "2043      cancelled     Fabric Clean           NaN  \n",
       "2044      cancelled  Household Clean           NaN  \n",
       "2045      cancelled     Fabric Clean           NaN  "
      ]
     },
     "execution_count": 11,
     "metadata": {},
     "output_type": "execute_result"
    }
   ],
   "source": [
    "newdf.tail()"
   ]
  },
  {
   "cell_type": "code",
   "execution_count": 29,
   "id": "4a86f494",
   "metadata": {},
   "outputs": [
    {
     "name": "stderr",
     "output_type": "stream",
     "text": [
      "C:\\Users\\USER\\AppData\\Local\\Temp\\ipykernel_16616\\1208152164.py:1: SettingWithCopyWarning: \n",
      "A value is trying to be set on a copy of a slice from a DataFrame.\n",
      "Try using .loc[row_indexer,col_indexer] = value instead\n",
      "\n",
      "See the caveats in the documentation: https://pandas.pydata.org/pandas-docs/stable/user_guide/indexing.html#returning-a-view-versus-a-copy\n",
      "  newdf['Delivery Date']=pd.to_datetime(df['Delivery Date'])\n"
     ]
    }
   ],
   "source": [
    "newdf['Delivery Date']=pd.to_datetime(df['Delivery Date'])"
   ]
  },
  {
   "cell_type": "code",
   "execution_count": 31,
   "id": "af464fdb",
   "metadata": {},
   "outputs": [
    {
     "data": {
      "text/html": [
       "<div>\n",
       "<style scoped>\n",
       "    .dataframe tbody tr th:only-of-type {\n",
       "        vertical-align: middle;\n",
       "    }\n",
       "\n",
       "    .dataframe tbody tr th {\n",
       "        vertical-align: top;\n",
       "    }\n",
       "\n",
       "    .dataframe thead th {\n",
       "        text-align: right;\n",
       "    }\n",
       "</style>\n",
       "<table border=\"1\" class=\"dataframe\">\n",
       "  <thead>\n",
       "    <tr style=\"text-align: right;\">\n",
       "      <th></th>\n",
       "      <th>Order Channel</th>\n",
       "      <th>Quantity</th>\n",
       "      <th>Unit Price</th>\n",
       "      <th>Customer Type</th>\n",
       "      <th>Category Group</th>\n",
       "      <th>shippingStatus</th>\n",
       "      <th>Category</th>\n",
       "      <th>Delivery Date</th>\n",
       "    </tr>\n",
       "  </thead>\n",
       "  <tbody>\n",
       "    <tr>\n",
       "      <th>2041</th>\n",
       "      <td>Whatsapp</td>\n",
       "      <td>1.0</td>\n",
       "      <td>2,200.00</td>\n",
       "      <td>General Trade</td>\n",
       "      <td>Home Care</td>\n",
       "      <td>cancelled</td>\n",
       "      <td>Household Clean</td>\n",
       "      <td>NaT</td>\n",
       "    </tr>\n",
       "    <tr>\n",
       "      <th>2042</th>\n",
       "      <td>Whatsapp</td>\n",
       "      <td>1.0</td>\n",
       "      <td>2,450.00</td>\n",
       "      <td>General Trade</td>\n",
       "      <td>Home Care</td>\n",
       "      <td>cancelled</td>\n",
       "      <td>Household Clean</td>\n",
       "      <td>NaT</td>\n",
       "    </tr>\n",
       "    <tr>\n",
       "      <th>2043</th>\n",
       "      <td>Whatsapp</td>\n",
       "      <td>1.0</td>\n",
       "      <td>3,550.00</td>\n",
       "      <td>General Trade</td>\n",
       "      <td>Home Care</td>\n",
       "      <td>cancelled</td>\n",
       "      <td>Fabric Clean</td>\n",
       "      <td>NaT</td>\n",
       "    </tr>\n",
       "    <tr>\n",
       "      <th>2044</th>\n",
       "      <td>Whatsapp</td>\n",
       "      <td>1.0</td>\n",
       "      <td>2,250.00</td>\n",
       "      <td>General Trade</td>\n",
       "      <td>Home Care</td>\n",
       "      <td>cancelled</td>\n",
       "      <td>Household Clean</td>\n",
       "      <td>NaT</td>\n",
       "    </tr>\n",
       "    <tr>\n",
       "      <th>2045</th>\n",
       "      <td>Whatsapp</td>\n",
       "      <td>1.0</td>\n",
       "      <td>2,300.00</td>\n",
       "      <td>General Trade</td>\n",
       "      <td>Home Care</td>\n",
       "      <td>cancelled</td>\n",
       "      <td>Fabric Clean</td>\n",
       "      <td>NaT</td>\n",
       "    </tr>\n",
       "  </tbody>\n",
       "</table>\n",
       "</div>"
      ],
      "text/plain": [
       "     Order Channel  Quantity Unit Price  Customer Type Category Group  \\\n",
       "2041      Whatsapp       1.0   2,200.00  General Trade      Home Care   \n",
       "2042      Whatsapp       1.0   2,450.00  General Trade      Home Care   \n",
       "2043      Whatsapp       1.0   3,550.00  General Trade      Home Care   \n",
       "2044      Whatsapp       1.0   2,250.00  General Trade      Home Care   \n",
       "2045      Whatsapp       1.0   2,300.00  General Trade      Home Care   \n",
       "\n",
       "     shippingStatus         Category Delivery Date  \n",
       "2041      cancelled  Household Clean           NaT  \n",
       "2042      cancelled  Household Clean           NaT  \n",
       "2043      cancelled     Fabric Clean           NaT  \n",
       "2044      cancelled  Household Clean           NaT  \n",
       "2045      cancelled     Fabric Clean           NaT  "
      ]
     },
     "execution_count": 31,
     "metadata": {},
     "output_type": "execute_result"
    }
   ],
   "source": [
    "newdf.tail()"
   ]
  },
  {
   "cell_type": "code",
   "execution_count": 32,
   "id": "70ebbb9b",
   "metadata": {},
   "outputs": [
    {
     "name": "stdout",
     "output_type": "stream",
     "text": [
      "<class 'pandas.core.frame.DataFrame'>\n",
      "RangeIndex: 2046 entries, 0 to 2045\n",
      "Data columns (total 8 columns):\n",
      " #   Column          Non-Null Count  Dtype         \n",
      "---  ------          --------------  -----         \n",
      " 0   Order Channel   2046 non-null   object        \n",
      " 1   Quantity        2046 non-null   float64       \n",
      " 2   Unit Price      2046 non-null   object        \n",
      " 3   Customer Type   2046 non-null   object        \n",
      " 4   Category Group  2046 non-null   object        \n",
      " 5   shippingStatus  2046 non-null   object        \n",
      " 6   Category        2046 non-null   object        \n",
      " 7   Delivery Date   1790 non-null   datetime64[ns]\n",
      "dtypes: datetime64[ns](1), float64(1), object(6)\n",
      "memory usage: 128.0+ KB\n"
     ]
    }
   ],
   "source": [
    "newdf.info()"
   ]
  },
  {
   "cell_type": "code",
   "execution_count": 38,
   "id": "e2399ee3",
   "metadata": {},
   "outputs": [
    {
     "name": "stderr",
     "output_type": "stream",
     "text": [
      "C:\\Users\\USER\\AppData\\Local\\Temp\\ipykernel_16616\\1523239569.py:1: SettingWithCopyWarning: \n",
      "A value is trying to be set on a copy of a slice from a DataFrame.\n",
      "Try using .loc[row_indexer,col_indexer] = value instead\n",
      "\n",
      "See the caveats in the documentation: https://pandas.pydata.org/pandas-docs/stable/user_guide/indexing.html#returning-a-view-versus-a-copy\n",
      "  newdf['Unit Price']=newdf['Unit Price'].str.replace(',','').astype(float)\n"
     ]
    }
   ],
   "source": [
    "newdf['Unit Price']=newdf['Unit Price'].str.replace(',','').astype(float)"
   ]
  },
  {
   "cell_type": "code",
   "execution_count": 39,
   "id": "56dfe702",
   "metadata": {},
   "outputs": [
    {
     "data": {
      "text/html": [
       "<div>\n",
       "<style scoped>\n",
       "    .dataframe tbody tr th:only-of-type {\n",
       "        vertical-align: middle;\n",
       "    }\n",
       "\n",
       "    .dataframe tbody tr th {\n",
       "        vertical-align: top;\n",
       "    }\n",
       "\n",
       "    .dataframe thead th {\n",
       "        text-align: right;\n",
       "    }\n",
       "</style>\n",
       "<table border=\"1\" class=\"dataframe\">\n",
       "  <thead>\n",
       "    <tr style=\"text-align: right;\">\n",
       "      <th></th>\n",
       "      <th>Order Channel</th>\n",
       "      <th>Quantity</th>\n",
       "      <th>Unit Price</th>\n",
       "      <th>Customer Type</th>\n",
       "      <th>Category Group</th>\n",
       "      <th>shippingStatus</th>\n",
       "      <th>Category</th>\n",
       "      <th>Delivery Date</th>\n",
       "    </tr>\n",
       "  </thead>\n",
       "  <tbody>\n",
       "    <tr>\n",
       "      <th>0</th>\n",
       "      <td>Mobile App</td>\n",
       "      <td>2.0</td>\n",
       "      <td>7000.0</td>\n",
       "      <td>General Trade</td>\n",
       "      <td>Baby</td>\n",
       "      <td>delivered</td>\n",
       "      <td>Infant Care</td>\n",
       "      <td>2020-12-02 12:01:00</td>\n",
       "    </tr>\n",
       "    <tr>\n",
       "      <th>1</th>\n",
       "      <td>Mobile App</td>\n",
       "      <td>1.0</td>\n",
       "      <td>7000.0</td>\n",
       "      <td>General Trade</td>\n",
       "      <td>Baby</td>\n",
       "      <td>delivered</td>\n",
       "      <td>Infant Care</td>\n",
       "      <td>2020-12-02 12:01:00</td>\n",
       "    </tr>\n",
       "    <tr>\n",
       "      <th>2</th>\n",
       "      <td>Mobile App</td>\n",
       "      <td>1.0</td>\n",
       "      <td>7000.0</td>\n",
       "      <td>General Trade</td>\n",
       "      <td>Baby</td>\n",
       "      <td>delivered</td>\n",
       "      <td>Infant Care</td>\n",
       "      <td>2020-12-02 12:01:00</td>\n",
       "    </tr>\n",
       "    <tr>\n",
       "      <th>3</th>\n",
       "      <td>Whatsapp</td>\n",
       "      <td>1.0</td>\n",
       "      <td>7000.0</td>\n",
       "      <td>General Trade</td>\n",
       "      <td>Baby</td>\n",
       "      <td>delivered</td>\n",
       "      <td>Infant Care</td>\n",
       "      <td>2020-12-02 12:08:00</td>\n",
       "    </tr>\n",
       "    <tr>\n",
       "      <th>4</th>\n",
       "      <td>Whatsapp</td>\n",
       "      <td>1.0</td>\n",
       "      <td>7000.0</td>\n",
       "      <td>General Trade</td>\n",
       "      <td>Baby</td>\n",
       "      <td>delivered</td>\n",
       "      <td>Infant Care</td>\n",
       "      <td>2020-12-02 12:08:00</td>\n",
       "    </tr>\n",
       "  </tbody>\n",
       "</table>\n",
       "</div>"
      ],
      "text/plain": [
       "  Order Channel  Quantity  Unit Price  Customer Type Category Group  \\\n",
       "0    Mobile App       2.0      7000.0  General Trade           Baby   \n",
       "1    Mobile App       1.0      7000.0  General Trade           Baby   \n",
       "2    Mobile App       1.0      7000.0  General Trade           Baby   \n",
       "3      Whatsapp       1.0      7000.0  General Trade           Baby   \n",
       "4      Whatsapp       1.0      7000.0  General Trade           Baby   \n",
       "\n",
       "  shippingStatus     Category       Delivery Date  \n",
       "0      delivered  Infant Care 2020-12-02 12:01:00  \n",
       "1      delivered  Infant Care 2020-12-02 12:01:00  \n",
       "2      delivered  Infant Care 2020-12-02 12:01:00  \n",
       "3      delivered  Infant Care 2020-12-02 12:08:00  \n",
       "4      delivered  Infant Care 2020-12-02 12:08:00  "
      ]
     },
     "execution_count": 39,
     "metadata": {},
     "output_type": "execute_result"
    }
   ],
   "source": [
    "newdf.head()"
   ]
  },
  {
   "cell_type": "code",
   "execution_count": 40,
   "id": "f3702040",
   "metadata": {},
   "outputs": [
    {
     "name": "stdout",
     "output_type": "stream",
     "text": [
      "<class 'pandas.core.frame.DataFrame'>\n",
      "RangeIndex: 2046 entries, 0 to 2045\n",
      "Data columns (total 8 columns):\n",
      " #   Column          Non-Null Count  Dtype         \n",
      "---  ------          --------------  -----         \n",
      " 0   Order Channel   2046 non-null   object        \n",
      " 1   Quantity        2046 non-null   float64       \n",
      " 2   Unit Price      2046 non-null   float64       \n",
      " 3   Customer Type   2046 non-null   object        \n",
      " 4   Category Group  2046 non-null   object        \n",
      " 5   shippingStatus  2046 non-null   object        \n",
      " 6   Category        2046 non-null   object        \n",
      " 7   Delivery Date   1790 non-null   datetime64[ns]\n",
      "dtypes: datetime64[ns](1), float64(2), object(5)\n",
      "memory usage: 128.0+ KB\n"
     ]
    }
   ],
   "source": [
    "newdf.info()"
   ]
  },
  {
   "cell_type": "code",
   "execution_count": 50,
   "id": "ed8eb99b",
   "metadata": {},
   "outputs": [
    {
     "name": "stderr",
     "output_type": "stream",
     "text": [
      "C:\\Users\\USER\\AppData\\Local\\Temp\\ipykernel_16616\\2264201854.py:1: SettingWithCopyWarning: \n",
      "A value is trying to be set on a copy of a slice from a DataFrame.\n",
      "Try using .loc[row_indexer,col_indexer] = value instead\n",
      "\n",
      "See the caveats in the documentation: https://pandas.pydata.org/pandas-docs/stable/user_guide/indexing.html#returning-a-view-versus-a-copy\n",
      "  newdf[\"Delivery Date\"] = newdf[\"Delivery Date\"].astype(str).replace('nan', 'Not Specified')\n"
     ]
    }
   ],
   "source": [
    "newdf[\"Delivery Date\"] = newdf[\"Delivery Date\"].astype(str).replace('nan', 'Not Specified')"
   ]
  },
  {
   "cell_type": "code",
   "execution_count": 52,
   "id": "4e433fe1",
   "metadata": {},
   "outputs": [
    {
     "data": {
      "text/html": [
       "<div>\n",
       "<style scoped>\n",
       "    .dataframe tbody tr th:only-of-type {\n",
       "        vertical-align: middle;\n",
       "    }\n",
       "\n",
       "    .dataframe tbody tr th {\n",
       "        vertical-align: top;\n",
       "    }\n",
       "\n",
       "    .dataframe thead th {\n",
       "        text-align: right;\n",
       "    }\n",
       "</style>\n",
       "<table border=\"1\" class=\"dataframe\">\n",
       "  <thead>\n",
       "    <tr style=\"text-align: right;\">\n",
       "      <th></th>\n",
       "      <th>Order Channel</th>\n",
       "      <th>Quantity</th>\n",
       "      <th>Unit Price</th>\n",
       "      <th>Customer Type</th>\n",
       "      <th>Category Group</th>\n",
       "      <th>shippingStatus</th>\n",
       "      <th>Category</th>\n",
       "      <th>Delivery Date</th>\n",
       "    </tr>\n",
       "  </thead>\n",
       "  <tbody>\n",
       "    <tr>\n",
       "      <th>0</th>\n",
       "      <td>Mobile App</td>\n",
       "      <td>2.0</td>\n",
       "      <td>7000.0</td>\n",
       "      <td>General Trade</td>\n",
       "      <td>Baby</td>\n",
       "      <td>delivered</td>\n",
       "      <td>Infant Care</td>\n",
       "      <td>2020-12-02 12:01:00</td>\n",
       "    </tr>\n",
       "    <tr>\n",
       "      <th>1</th>\n",
       "      <td>Mobile App</td>\n",
       "      <td>1.0</td>\n",
       "      <td>7000.0</td>\n",
       "      <td>General Trade</td>\n",
       "      <td>Baby</td>\n",
       "      <td>delivered</td>\n",
       "      <td>Infant Care</td>\n",
       "      <td>2020-12-02 12:01:00</td>\n",
       "    </tr>\n",
       "    <tr>\n",
       "      <th>2</th>\n",
       "      <td>Mobile App</td>\n",
       "      <td>1.0</td>\n",
       "      <td>7000.0</td>\n",
       "      <td>General Trade</td>\n",
       "      <td>Baby</td>\n",
       "      <td>delivered</td>\n",
       "      <td>Infant Care</td>\n",
       "      <td>2020-12-02 12:01:00</td>\n",
       "    </tr>\n",
       "    <tr>\n",
       "      <th>3</th>\n",
       "      <td>Whatsapp</td>\n",
       "      <td>1.0</td>\n",
       "      <td>7000.0</td>\n",
       "      <td>General Trade</td>\n",
       "      <td>Baby</td>\n",
       "      <td>delivered</td>\n",
       "      <td>Infant Care</td>\n",
       "      <td>2020-12-02 12:08:00</td>\n",
       "    </tr>\n",
       "    <tr>\n",
       "      <th>4</th>\n",
       "      <td>Whatsapp</td>\n",
       "      <td>1.0</td>\n",
       "      <td>7000.0</td>\n",
       "      <td>General Trade</td>\n",
       "      <td>Baby</td>\n",
       "      <td>delivered</td>\n",
       "      <td>Infant Care</td>\n",
       "      <td>2020-12-02 12:08:00</td>\n",
       "    </tr>\n",
       "  </tbody>\n",
       "</table>\n",
       "</div>"
      ],
      "text/plain": [
       "  Order Channel  Quantity  Unit Price  Customer Type Category Group  \\\n",
       "0    Mobile App       2.0      7000.0  General Trade           Baby   \n",
       "1    Mobile App       1.0      7000.0  General Trade           Baby   \n",
       "2    Mobile App       1.0      7000.0  General Trade           Baby   \n",
       "3      Whatsapp       1.0      7000.0  General Trade           Baby   \n",
       "4      Whatsapp       1.0      7000.0  General Trade           Baby   \n",
       "\n",
       "  shippingStatus     Category        Delivery Date  \n",
       "0      delivered  Infant Care  2020-12-02 12:01:00  \n",
       "1      delivered  Infant Care  2020-12-02 12:01:00  \n",
       "2      delivered  Infant Care  2020-12-02 12:01:00  \n",
       "3      delivered  Infant Care  2020-12-02 12:08:00  \n",
       "4      delivered  Infant Care  2020-12-02 12:08:00  "
      ]
     },
     "execution_count": 52,
     "metadata": {},
     "output_type": "execute_result"
    }
   ],
   "source": [
    "newdf.head()"
   ]
  },
  {
   "cell_type": "code",
   "execution_count": 54,
   "id": "938c3bbc",
   "metadata": {},
   "outputs": [],
   "source": [
    "newdf.to_csv('cleanedRawdata.csv')"
   ]
  },
  {
   "cell_type": "code",
   "execution_count": 55,
   "id": "eda6ecc0",
   "metadata": {},
   "outputs": [
    {
     "data": {
      "text/plain": [
       "OrderedAt Date             object\n",
       "Order No.                  object\n",
       "Customer Name              object\n",
       "Producer                   object\n",
       "Product                    object\n",
       "Category Group             object\n",
       "Category                   object\n",
       "Variant                    object\n",
       "Quantity                  float64\n",
       "Unit Price                 object\n",
       "shippingStatus             object\n",
       "Delivery Agent             object\n",
       "Delivery Date      datetime64[ns]\n",
       "Customer Type              object\n",
       "Order Channel              object\n",
       "dtype: object"
      ]
     },
     "execution_count": 55,
     "metadata": {},
     "output_type": "execute_result"
    }
   ],
   "source": [
    "df.dtypes"
   ]
  },
  {
   "cell_type": "code",
   "execution_count": 56,
   "id": "276e566c",
   "metadata": {},
   "outputs": [
    {
     "name": "stderr",
     "output_type": "stream",
     "text": [
      "C:\\Users\\USER\\AppData\\Local\\Temp\\ipykernel_16616\\2309329129.py:1: SettingWithCopyWarning: \n",
      "A value is trying to be set on a copy of a slice from a DataFrame.\n",
      "Try using .loc[row_indexer,col_indexer] = value instead\n",
      "\n",
      "See the caveats in the documentation: https://pandas.pydata.org/pandas-docs/stable/user_guide/indexing.html#returning-a-view-versus-a-copy\n",
      "  newdf['Sales']=newdf['Quantity'] *newdf['Unit Price']\n"
     ]
    }
   ],
   "source": [
    "newdf['Sales']=newdf['Quantity'] *newdf['Unit Price']"
   ]
  },
  {
   "cell_type": "code",
   "execution_count": 57,
   "id": "30861315",
   "metadata": {},
   "outputs": [
    {
     "data": {
      "text/html": [
       "<div>\n",
       "<style scoped>\n",
       "    .dataframe tbody tr th:only-of-type {\n",
       "        vertical-align: middle;\n",
       "    }\n",
       "\n",
       "    .dataframe tbody tr th {\n",
       "        vertical-align: top;\n",
       "    }\n",
       "\n",
       "    .dataframe thead th {\n",
       "        text-align: right;\n",
       "    }\n",
       "</style>\n",
       "<table border=\"1\" class=\"dataframe\">\n",
       "  <thead>\n",
       "    <tr style=\"text-align: right;\">\n",
       "      <th></th>\n",
       "      <th>Order Channel</th>\n",
       "      <th>Quantity</th>\n",
       "      <th>Unit Price</th>\n",
       "      <th>Customer Type</th>\n",
       "      <th>Category Group</th>\n",
       "      <th>shippingStatus</th>\n",
       "      <th>Category</th>\n",
       "      <th>Delivery Date</th>\n",
       "      <th>Sales</th>\n",
       "    </tr>\n",
       "  </thead>\n",
       "  <tbody>\n",
       "    <tr>\n",
       "      <th>0</th>\n",
       "      <td>Mobile App</td>\n",
       "      <td>2.0</td>\n",
       "      <td>7000.0</td>\n",
       "      <td>General Trade</td>\n",
       "      <td>Baby</td>\n",
       "      <td>delivered</td>\n",
       "      <td>Infant Care</td>\n",
       "      <td>2020-12-02 12:01:00</td>\n",
       "      <td>14000.0</td>\n",
       "    </tr>\n",
       "    <tr>\n",
       "      <th>1</th>\n",
       "      <td>Mobile App</td>\n",
       "      <td>1.0</td>\n",
       "      <td>7000.0</td>\n",
       "      <td>General Trade</td>\n",
       "      <td>Baby</td>\n",
       "      <td>delivered</td>\n",
       "      <td>Infant Care</td>\n",
       "      <td>2020-12-02 12:01:00</td>\n",
       "      <td>7000.0</td>\n",
       "    </tr>\n",
       "    <tr>\n",
       "      <th>2</th>\n",
       "      <td>Mobile App</td>\n",
       "      <td>1.0</td>\n",
       "      <td>7000.0</td>\n",
       "      <td>General Trade</td>\n",
       "      <td>Baby</td>\n",
       "      <td>delivered</td>\n",
       "      <td>Infant Care</td>\n",
       "      <td>2020-12-02 12:01:00</td>\n",
       "      <td>7000.0</td>\n",
       "    </tr>\n",
       "    <tr>\n",
       "      <th>3</th>\n",
       "      <td>Whatsapp</td>\n",
       "      <td>1.0</td>\n",
       "      <td>7000.0</td>\n",
       "      <td>General Trade</td>\n",
       "      <td>Baby</td>\n",
       "      <td>delivered</td>\n",
       "      <td>Infant Care</td>\n",
       "      <td>2020-12-02 12:08:00</td>\n",
       "      <td>7000.0</td>\n",
       "    </tr>\n",
       "    <tr>\n",
       "      <th>4</th>\n",
       "      <td>Whatsapp</td>\n",
       "      <td>1.0</td>\n",
       "      <td>7000.0</td>\n",
       "      <td>General Trade</td>\n",
       "      <td>Baby</td>\n",
       "      <td>delivered</td>\n",
       "      <td>Infant Care</td>\n",
       "      <td>2020-12-02 12:08:00</td>\n",
       "      <td>7000.0</td>\n",
       "    </tr>\n",
       "  </tbody>\n",
       "</table>\n",
       "</div>"
      ],
      "text/plain": [
       "  Order Channel  Quantity  Unit Price  Customer Type Category Group  \\\n",
       "0    Mobile App       2.0      7000.0  General Trade           Baby   \n",
       "1    Mobile App       1.0      7000.0  General Trade           Baby   \n",
       "2    Mobile App       1.0      7000.0  General Trade           Baby   \n",
       "3      Whatsapp       1.0      7000.0  General Trade           Baby   \n",
       "4      Whatsapp       1.0      7000.0  General Trade           Baby   \n",
       "\n",
       "  shippingStatus     Category        Delivery Date    Sales  \n",
       "0      delivered  Infant Care  2020-12-02 12:01:00  14000.0  \n",
       "1      delivered  Infant Care  2020-12-02 12:01:00   7000.0  \n",
       "2      delivered  Infant Care  2020-12-02 12:01:00   7000.0  \n",
       "3      delivered  Infant Care  2020-12-02 12:08:00   7000.0  \n",
       "4      delivered  Infant Care  2020-12-02 12:08:00   7000.0  "
      ]
     },
     "execution_count": 57,
     "metadata": {},
     "output_type": "execute_result"
    }
   ],
   "source": [
    "newdf.head()"
   ]
  },
  {
   "cell_type": "code",
   "execution_count": 61,
   "id": "f4ee4505",
   "metadata": {},
   "outputs": [],
   "source": [
    "import matplotlib.pyplot as plt"
   ]
  },
  {
   "cell_type": "code",
   "execution_count": 64,
   "id": "ba0c5804",
   "metadata": {},
   "outputs": [
    {
     "data": {
      "image/png": "[encoded data removed]",
      "text/plain": [
       "<Figure size 640x480 with 1 Axes>"
      ]
     },
     "metadata": {},
     "output_type": "display_data"
    }
   ],
   "source": [
    "plt.hist(df['Quantity'], bins=20)\n",
    "plt.title('Order Quantity Distribution')\n",
    "plt.xlabel('Quantity')\n",
    "plt.ylabel('Frequency')\n",
    "plt.show()"
   ]
  },
  {
   "cell_type": "code",
   "execution_count": 66,
   "id": "4f958e01",
   "metadata": {},
   "outputs": [
    {
     "data": {
      "image/png": "[encoded data removed]",
      "text/plain": [
       "<Figure size 640x480 with 1 Axes>"
      ]
     },
     "metadata": {},
     "output_type": "display_data"
    }
   ],
   "source": [
    "import matplotlib.pyplot as plt\n",
    "\n",
    "plt.hist(df['Order Channel'], bins=20)\n",
    "plt.title('Order Quantity Distribution')\n",
    "plt.xlabel('channel')\n",
    "plt.ylabel('Frequency')\n",
    "plt.show()"
   ]
  },
  {
   "cell_type": "code",
   "execution_count": 69,
   "id": "491bcf0c",
   "metadata": {},
   "outputs": [
    {
     "data": {
      "image/png": "[encoded data removed]",
      "text/plain": [
       "<Figure size 640x480 with 1 Axes>"
      ]
     },
     "metadata": {},
     "output_type": "display_data"
    }
   ],
   "source": [
    "import matplotlib.pyplot as plt\n",
    "\n",
    "plt.hist(df['shippingStatus'], bins=5)\n",
    "plt.title('Order Quantity Distribution')\n",
    "plt.xlabel('shippingStatus')\n",
    "plt.ylabel('Frequency')\n",
    "plt.show()"
   ]
  },
  {
   "cell_type": "code",
   "execution_count": 70,
   "id": "6b173b01",
   "metadata": {},
   "outputs": [],
   "source": [
    "newdf.to_csv('CleanedRawdata2.csv')"
   ]
  },
  {
   "cell_type": "code",
   "execution_count": null,
   "id": "285a469a",
   "metadata": {},
   "outputs": [],
   "source": []
  }
 ],
 "metadata": {
  "kernelspec": {
   "display_name": "Python 3 (ipykernel)",
   "language": "python",
   "name": "python3"
  },
  "language_info": {
   "codemirror_mode": {
    "name": "ipython",
    "version": 3
   },
   "file_extension": ".py",
   "mimetype": "text/x-python",
   "name": "python",
   "nbconvert_exporter": "python",
   "pygments_lexer": "ipython3",
   "version": "3.11.7"
  }
 },
 "nbformat": 4,
 "nbformat_minor": 5
}
